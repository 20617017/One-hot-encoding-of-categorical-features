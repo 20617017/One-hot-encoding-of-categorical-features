{
 "cells": [
  {
   "cell_type": "code",
   "execution_count": 1,
   "id": "1695123f",
   "metadata": {},
   "outputs": [],
   "source": [
    " #:a one-hot encoding of y labels should use a labelbinarizer instead"
   ]
  },
  {
   "cell_type": "code",
   "execution_count": 2,
   "id": "f263a267",
   "metadata": {},
   "outputs": [],
   "source": [
    "import pandas as pd"
   ]
  },
  {
   "cell_type": "code",
   "execution_count": 3,
   "id": "bf3c2874",
   "metadata": {},
   "outputs": [],
   "source": [
    "import numpy as np"
   ]
  },
  {
   "cell_type": "code",
   "execution_count": 4,
   "id": "48ed3d7d",
   "metadata": {},
   "outputs": [],
   "source": [
    "import os"
   ]
  },
  {
   "cell_type": "code",
   "execution_count": 5,
   "id": "03804711",
   "metadata": {},
   "outputs": [],
   "source": [
    "os.chdir(\"Downloads\")"
   ]
  },
  {
   "cell_type": "code",
   "execution_count": 6,
   "id": "561af673",
   "metadata": {},
   "outputs": [],
   "source": [
    "df=pd.read_csv(\"Customer Purchase.csv\")"
   ]
  },
  {
   "cell_type": "code",
   "execution_count": 7,
   "id": "4660cc1d",
   "metadata": {},
   "outputs": [
    {
     "data": {
      "text/html": [
       "<div>\n",
       "<style scoped>\n",
       "    .dataframe tbody tr th:only-of-type {\n",
       "        vertical-align: middle;\n",
       "    }\n",
       "\n",
       "    .dataframe tbody tr th {\n",
       "        vertical-align: top;\n",
       "    }\n",
       "\n",
       "    .dataframe thead th {\n",
       "        text-align: right;\n",
       "    }\n",
       "</style>\n",
       "<table border=\"1\" class=\"dataframe\">\n",
       "  <thead>\n",
       "    <tr style=\"text-align: right;\">\n",
       "      <th></th>\n",
       "      <th>Customer ID</th>\n",
       "      <th>Age</th>\n",
       "      <th>Gender</th>\n",
       "      <th>Education</th>\n",
       "      <th>Review</th>\n",
       "      <th>Purchased</th>\n",
       "    </tr>\n",
       "  </thead>\n",
       "  <tbody>\n",
       "    <tr>\n",
       "      <th>0</th>\n",
       "      <td>1021</td>\n",
       "      <td>30</td>\n",
       "      <td>Female</td>\n",
       "      <td>School</td>\n",
       "      <td>Average</td>\n",
       "      <td>No</td>\n",
       "    </tr>\n",
       "    <tr>\n",
       "      <th>1</th>\n",
       "      <td>1022</td>\n",
       "      <td>68</td>\n",
       "      <td>Female</td>\n",
       "      <td>UG</td>\n",
       "      <td>Poor</td>\n",
       "      <td>No</td>\n",
       "    </tr>\n",
       "    <tr>\n",
       "      <th>2</th>\n",
       "      <td>1023</td>\n",
       "      <td>70</td>\n",
       "      <td>Female</td>\n",
       "      <td>PG</td>\n",
       "      <td>Good</td>\n",
       "      <td>No</td>\n",
       "    </tr>\n",
       "    <tr>\n",
       "      <th>3</th>\n",
       "      <td>1024</td>\n",
       "      <td>72</td>\n",
       "      <td>Female</td>\n",
       "      <td>PG</td>\n",
       "      <td>Good</td>\n",
       "      <td>No</td>\n",
       "    </tr>\n",
       "    <tr>\n",
       "      <th>4</th>\n",
       "      <td>1025</td>\n",
       "      <td>16</td>\n",
       "      <td>Female</td>\n",
       "      <td>UG</td>\n",
       "      <td>Average</td>\n",
       "      <td>No</td>\n",
       "    </tr>\n",
       "  </tbody>\n",
       "</table>\n",
       "</div>"
      ],
      "text/plain": [
       "   Customer ID  Age  Gender Education   Review Purchased\n",
       "0         1021   30  Female    School  Average        No\n",
       "1         1022   68  Female        UG     Poor        No\n",
       "2         1023   70  Female        PG     Good        No\n",
       "3         1024   72  Female        PG     Good        No\n",
       "4         1025   16  Female        UG  Average        No"
      ]
     },
     "execution_count": 7,
     "metadata": {},
     "output_type": "execute_result"
    }
   ],
   "source": [
    "df.head()"
   ]
  },
  {
   "cell_type": "code",
   "execution_count": 8,
   "id": "a18440d4",
   "metadata": {},
   "outputs": [
    {
     "data": {
      "text/plain": [
       "(50, 6)"
      ]
     },
     "execution_count": 8,
     "metadata": {},
     "output_type": "execute_result"
    }
   ],
   "source": [
    "df.shape"
   ]
  },
  {
   "cell_type": "code",
   "execution_count": 9,
   "id": "cff5ec74",
   "metadata": {},
   "outputs": [
    {
     "data": {
      "text/plain": [
       "Index(['Customer ID', 'Age', 'Gender', 'Education', 'Review', 'Purchased'], dtype='object')"
      ]
     },
     "execution_count": 9,
     "metadata": {},
     "output_type": "execute_result"
    }
   ],
   "source": [
    "df.columns"
   ]
  },
  {
   "cell_type": "code",
   "execution_count": 10,
   "id": "9aeee6db",
   "metadata": {},
   "outputs": [
    {
     "name": "stdout",
     "output_type": "stream",
     "text": [
      "<class 'pandas.core.frame.DataFrame'>\n",
      "RangeIndex: 50 entries, 0 to 49\n",
      "Data columns (total 6 columns):\n",
      " #   Column       Non-Null Count  Dtype \n",
      "---  ------       --------------  ----- \n",
      " 0   Customer ID  50 non-null     int64 \n",
      " 1   Age          50 non-null     int64 \n",
      " 2   Gender       50 non-null     object\n",
      " 3   Education    50 non-null     object\n",
      " 4   Review       50 non-null     object\n",
      " 5   Purchased    50 non-null     object\n",
      "dtypes: int64(2), object(4)\n",
      "memory usage: 2.5+ KB\n"
     ]
    }
   ],
   "source": [
    "df.info()"
   ]
  },
  {
   "cell_type": "code",
   "execution_count": 11,
   "id": "58cc8834",
   "metadata": {},
   "outputs": [],
   "source": [
    "x=df[['Gender','Education','Review']]"
   ]
  },
  {
   "cell_type": "code",
   "execution_count": 12,
   "id": "f7e9037f",
   "metadata": {},
   "outputs": [
    {
     "data": {
      "text/html": [
       "<div>\n",
       "<style scoped>\n",
       "    .dataframe tbody tr th:only-of-type {\n",
       "        vertical-align: middle;\n",
       "    }\n",
       "\n",
       "    .dataframe tbody tr th {\n",
       "        vertical-align: top;\n",
       "    }\n",
       "\n",
       "    .dataframe thead th {\n",
       "        text-align: right;\n",
       "    }\n",
       "</style>\n",
       "<table border=\"1\" class=\"dataframe\">\n",
       "  <thead>\n",
       "    <tr style=\"text-align: right;\">\n",
       "      <th></th>\n",
       "      <th>Gender</th>\n",
       "      <th>Education</th>\n",
       "      <th>Review</th>\n",
       "    </tr>\n",
       "  </thead>\n",
       "  <tbody>\n",
       "    <tr>\n",
       "      <th>0</th>\n",
       "      <td>Female</td>\n",
       "      <td>School</td>\n",
       "      <td>Average</td>\n",
       "    </tr>\n",
       "    <tr>\n",
       "      <th>1</th>\n",
       "      <td>Female</td>\n",
       "      <td>UG</td>\n",
       "      <td>Poor</td>\n",
       "    </tr>\n",
       "    <tr>\n",
       "      <th>2</th>\n",
       "      <td>Female</td>\n",
       "      <td>PG</td>\n",
       "      <td>Good</td>\n",
       "    </tr>\n",
       "    <tr>\n",
       "      <th>3</th>\n",
       "      <td>Female</td>\n",
       "      <td>PG</td>\n",
       "      <td>Good</td>\n",
       "    </tr>\n",
       "    <tr>\n",
       "      <th>4</th>\n",
       "      <td>Female</td>\n",
       "      <td>UG</td>\n",
       "      <td>Average</td>\n",
       "    </tr>\n",
       "    <tr>\n",
       "      <th>5</th>\n",
       "      <td>Female</td>\n",
       "      <td>School</td>\n",
       "      <td>Average</td>\n",
       "    </tr>\n",
       "    <tr>\n",
       "      <th>6</th>\n",
       "      <td>Male</td>\n",
       "      <td>School</td>\n",
       "      <td>Good</td>\n",
       "    </tr>\n",
       "    <tr>\n",
       "      <th>7</th>\n",
       "      <td>Female</td>\n",
       "      <td>School</td>\n",
       "      <td>Poor</td>\n",
       "    </tr>\n",
       "    <tr>\n",
       "      <th>8</th>\n",
       "      <td>Female</td>\n",
       "      <td>UG</td>\n",
       "      <td>Average</td>\n",
       "    </tr>\n",
       "    <tr>\n",
       "      <th>9</th>\n",
       "      <td>Male</td>\n",
       "      <td>UG</td>\n",
       "      <td>Good</td>\n",
       "    </tr>\n",
       "    <tr>\n",
       "      <th>10</th>\n",
       "      <td>Female</td>\n",
       "      <td>UG</td>\n",
       "      <td>Good</td>\n",
       "    </tr>\n",
       "    <tr>\n",
       "      <th>11</th>\n",
       "      <td>Male</td>\n",
       "      <td>UG</td>\n",
       "      <td>Good</td>\n",
       "    </tr>\n",
       "    <tr>\n",
       "      <th>12</th>\n",
       "      <td>Male</td>\n",
       "      <td>School</td>\n",
       "      <td>Poor</td>\n",
       "    </tr>\n",
       "    <tr>\n",
       "      <th>13</th>\n",
       "      <td>Female</td>\n",
       "      <td>School</td>\n",
       "      <td>Average</td>\n",
       "    </tr>\n",
       "    <tr>\n",
       "      <th>14</th>\n",
       "      <td>Male</td>\n",
       "      <td>PG</td>\n",
       "      <td>Poor</td>\n",
       "    </tr>\n",
       "    <tr>\n",
       "      <th>15</th>\n",
       "      <td>Male</td>\n",
       "      <td>UG</td>\n",
       "      <td>Poor</td>\n",
       "    </tr>\n",
       "    <tr>\n",
       "      <th>16</th>\n",
       "      <td>Male</td>\n",
       "      <td>UG</td>\n",
       "      <td>Poor</td>\n",
       "    </tr>\n",
       "    <tr>\n",
       "      <th>17</th>\n",
       "      <td>Female</td>\n",
       "      <td>UG</td>\n",
       "      <td>Poor</td>\n",
       "    </tr>\n",
       "    <tr>\n",
       "      <th>18</th>\n",
       "      <td>Male</td>\n",
       "      <td>School</td>\n",
       "      <td>Good</td>\n",
       "    </tr>\n",
       "    <tr>\n",
       "      <th>19</th>\n",
       "      <td>Male</td>\n",
       "      <td>PG</td>\n",
       "      <td>Poor</td>\n",
       "    </tr>\n",
       "    <tr>\n",
       "      <th>20</th>\n",
       "      <td>Female</td>\n",
       "      <td>School</td>\n",
       "      <td>Average</td>\n",
       "    </tr>\n",
       "    <tr>\n",
       "      <th>21</th>\n",
       "      <td>Male</td>\n",
       "      <td>PG</td>\n",
       "      <td>Average</td>\n",
       "    </tr>\n",
       "    <tr>\n",
       "      <th>22</th>\n",
       "      <td>Female</td>\n",
       "      <td>PG</td>\n",
       "      <td>Poor</td>\n",
       "    </tr>\n",
       "    <tr>\n",
       "      <th>23</th>\n",
       "      <td>Female</td>\n",
       "      <td>School</td>\n",
       "      <td>Good</td>\n",
       "    </tr>\n",
       "    <tr>\n",
       "      <th>24</th>\n",
       "      <td>Female</td>\n",
       "      <td>PG</td>\n",
       "      <td>Average</td>\n",
       "    </tr>\n",
       "    <tr>\n",
       "      <th>25</th>\n",
       "      <td>Female</td>\n",
       "      <td>School</td>\n",
       "      <td>Good</td>\n",
       "    </tr>\n",
       "    <tr>\n",
       "      <th>26</th>\n",
       "      <td>Female</td>\n",
       "      <td>PG</td>\n",
       "      <td>Poor</td>\n",
       "    </tr>\n",
       "    <tr>\n",
       "      <th>27</th>\n",
       "      <td>Female</td>\n",
       "      <td>PG</td>\n",
       "      <td>Poor</td>\n",
       "    </tr>\n",
       "    <tr>\n",
       "      <th>28</th>\n",
       "      <td>Male</td>\n",
       "      <td>School</td>\n",
       "      <td>Poor</td>\n",
       "    </tr>\n",
       "    <tr>\n",
       "      <th>29</th>\n",
       "      <td>Female</td>\n",
       "      <td>UG</td>\n",
       "      <td>Average</td>\n",
       "    </tr>\n",
       "    <tr>\n",
       "      <th>30</th>\n",
       "      <td>Male</td>\n",
       "      <td>UG</td>\n",
       "      <td>Average</td>\n",
       "    </tr>\n",
       "    <tr>\n",
       "      <th>31</th>\n",
       "      <td>Female</td>\n",
       "      <td>School</td>\n",
       "      <td>Poor</td>\n",
       "    </tr>\n",
       "    <tr>\n",
       "      <th>32</th>\n",
       "      <td>Male</td>\n",
       "      <td>UG</td>\n",
       "      <td>Average</td>\n",
       "    </tr>\n",
       "    <tr>\n",
       "      <th>33</th>\n",
       "      <td>Female</td>\n",
       "      <td>PG</td>\n",
       "      <td>Good</td>\n",
       "    </tr>\n",
       "    <tr>\n",
       "      <th>34</th>\n",
       "      <td>Male</td>\n",
       "      <td>School</td>\n",
       "      <td>Average</td>\n",
       "    </tr>\n",
       "    <tr>\n",
       "      <th>35</th>\n",
       "      <td>Male</td>\n",
       "      <td>School</td>\n",
       "      <td>Poor</td>\n",
       "    </tr>\n",
       "    <tr>\n",
       "      <th>36</th>\n",
       "      <td>Female</td>\n",
       "      <td>UG</td>\n",
       "      <td>Good</td>\n",
       "    </tr>\n",
       "    <tr>\n",
       "      <th>37</th>\n",
       "      <td>Male</td>\n",
       "      <td>PG</td>\n",
       "      <td>Average</td>\n",
       "    </tr>\n",
       "    <tr>\n",
       "      <th>38</th>\n",
       "      <td>Female</td>\n",
       "      <td>School</td>\n",
       "      <td>Good</td>\n",
       "    </tr>\n",
       "    <tr>\n",
       "      <th>39</th>\n",
       "      <td>Male</td>\n",
       "      <td>PG</td>\n",
       "      <td>Poor</td>\n",
       "    </tr>\n",
       "    <tr>\n",
       "      <th>40</th>\n",
       "      <td>Male</td>\n",
       "      <td>School</td>\n",
       "      <td>Good</td>\n",
       "    </tr>\n",
       "    <tr>\n",
       "      <th>41</th>\n",
       "      <td>Male</td>\n",
       "      <td>PG</td>\n",
       "      <td>Good</td>\n",
       "    </tr>\n",
       "    <tr>\n",
       "      <th>42</th>\n",
       "      <td>Female</td>\n",
       "      <td>PG</td>\n",
       "      <td>Good</td>\n",
       "    </tr>\n",
       "    <tr>\n",
       "      <th>43</th>\n",
       "      <td>Male</td>\n",
       "      <td>PG</td>\n",
       "      <td>Poor</td>\n",
       "    </tr>\n",
       "    <tr>\n",
       "      <th>44</th>\n",
       "      <td>Female</td>\n",
       "      <td>UG</td>\n",
       "      <td>Average</td>\n",
       "    </tr>\n",
       "    <tr>\n",
       "      <th>45</th>\n",
       "      <td>Male</td>\n",
       "      <td>PG</td>\n",
       "      <td>Poor</td>\n",
       "    </tr>\n",
       "    <tr>\n",
       "      <th>46</th>\n",
       "      <td>Female</td>\n",
       "      <td>PG</td>\n",
       "      <td>Poor</td>\n",
       "    </tr>\n",
       "    <tr>\n",
       "      <th>47</th>\n",
       "      <td>Female</td>\n",
       "      <td>PG</td>\n",
       "      <td>Good</td>\n",
       "    </tr>\n",
       "    <tr>\n",
       "      <th>48</th>\n",
       "      <td>Female</td>\n",
       "      <td>UG</td>\n",
       "      <td>Good</td>\n",
       "    </tr>\n",
       "    <tr>\n",
       "      <th>49</th>\n",
       "      <td>Female</td>\n",
       "      <td>UG</td>\n",
       "      <td>Good</td>\n",
       "    </tr>\n",
       "  </tbody>\n",
       "</table>\n",
       "</div>"
      ],
      "text/plain": [
       "    Gender Education   Review\n",
       "0   Female    School  Average\n",
       "1   Female        UG     Poor\n",
       "2   Female        PG     Good\n",
       "3   Female        PG     Good\n",
       "4   Female        UG  Average\n",
       "5   Female    School  Average\n",
       "6     Male    School     Good\n",
       "7   Female    School     Poor\n",
       "8   Female        UG  Average\n",
       "9     Male        UG     Good\n",
       "10  Female        UG     Good\n",
       "11    Male        UG     Good\n",
       "12    Male    School     Poor\n",
       "13  Female    School  Average\n",
       "14    Male        PG     Poor\n",
       "15    Male        UG     Poor\n",
       "16    Male        UG     Poor\n",
       "17  Female        UG     Poor\n",
       "18    Male    School     Good\n",
       "19    Male        PG     Poor\n",
       "20  Female    School  Average\n",
       "21    Male        PG  Average\n",
       "22  Female        PG     Poor\n",
       "23  Female    School     Good\n",
       "24  Female        PG  Average\n",
       "25  Female    School     Good\n",
       "26  Female        PG     Poor\n",
       "27  Female        PG     Poor\n",
       "28    Male    School     Poor\n",
       "29  Female        UG  Average\n",
       "30    Male        UG  Average\n",
       "31  Female    School     Poor\n",
       "32    Male        UG  Average\n",
       "33  Female        PG     Good\n",
       "34    Male    School  Average\n",
       "35    Male    School     Poor\n",
       "36  Female        UG     Good\n",
       "37    Male        PG  Average\n",
       "38  Female    School     Good\n",
       "39    Male        PG     Poor\n",
       "40    Male    School     Good\n",
       "41    Male        PG     Good\n",
       "42  Female        PG     Good\n",
       "43    Male        PG     Poor\n",
       "44  Female        UG  Average\n",
       "45    Male        PG     Poor\n",
       "46  Female        PG     Poor\n",
       "47  Female        PG     Good\n",
       "48  Female        UG     Good\n",
       "49  Female        UG     Good"
      ]
     },
     "execution_count": 12,
     "metadata": {},
     "output_type": "execute_result"
    }
   ],
   "source": [
    "x"
   ]
  },
  {
   "cell_type": "code",
   "execution_count": 13,
   "id": "00398f04",
   "metadata": {},
   "outputs": [],
   "source": [
    "#encoding categorical features as an integer array"
   ]
  },
  {
   "cell_type": "code",
   "execution_count": 14,
   "id": "8da42576",
   "metadata": {},
   "outputs": [],
   "source": [
    "from sklearn.preprocessing import OneHotEncoder"
   ]
  },
  {
   "cell_type": "code",
   "execution_count": 15,
   "id": "68dbf640",
   "metadata": {},
   "outputs": [],
   "source": [
    "ohe=OneHotEncoder()"
   ]
  },
  {
   "cell_type": "code",
   "execution_count": 16,
   "id": "b7f94373",
   "metadata": {},
   "outputs": [],
   "source": [
    "#as example use one hot encoder on individual column to show the output"
   ]
  },
  {
   "cell_type": "code",
   "execution_count": 17,
   "id": "35a8ff3a",
   "metadata": {},
   "outputs": [],
   "source": [
    "x_gender=ohe.fit_transform(x[['Gender']])"
   ]
  },
  {
   "cell_type": "code",
   "execution_count": 18,
   "id": "1a965158",
   "metadata": {},
   "outputs": [
    {
     "data": {
      "text/plain": [
       "[array(['Female', 'Male'], dtype=object)]"
      ]
     },
     "execution_count": 18,
     "metadata": {},
     "output_type": "execute_result"
    }
   ],
   "source": [
    "ohe.categories_"
   ]
  },
  {
   "cell_type": "code",
   "execution_count": 19,
   "id": "07826a89",
   "metadata": {},
   "outputs": [
    {
     "data": {
      "text/plain": [
       "(50, 2)"
      ]
     },
     "execution_count": 19,
     "metadata": {},
     "output_type": "execute_result"
    }
   ],
   "source": [
    "x_gender.toarray().shape"
   ]
  },
  {
   "cell_type": "code",
   "execution_count": 20,
   "id": "03279512",
   "metadata": {},
   "outputs": [
    {
     "data": {
      "text/plain": [
       "array([[1., 0.],\n",
       "       [1., 0.],\n",
       "       [1., 0.],\n",
       "       [1., 0.],\n",
       "       [1., 0.],\n",
       "       [1., 0.],\n",
       "       [0., 1.],\n",
       "       [1., 0.],\n",
       "       [1., 0.],\n",
       "       [0., 1.],\n",
       "       [1., 0.],\n",
       "       [0., 1.],\n",
       "       [0., 1.],\n",
       "       [1., 0.],\n",
       "       [0., 1.],\n",
       "       [0., 1.],\n",
       "       [0., 1.],\n",
       "       [1., 0.],\n",
       "       [0., 1.],\n",
       "       [0., 1.],\n",
       "       [1., 0.],\n",
       "       [0., 1.],\n",
       "       [1., 0.],\n",
       "       [1., 0.],\n",
       "       [1., 0.],\n",
       "       [1., 0.],\n",
       "       [1., 0.],\n",
       "       [1., 0.],\n",
       "       [0., 1.],\n",
       "       [1., 0.],\n",
       "       [0., 1.],\n",
       "       [1., 0.],\n",
       "       [0., 1.],\n",
       "       [1., 0.],\n",
       "       [0., 1.],\n",
       "       [0., 1.],\n",
       "       [1., 0.],\n",
       "       [0., 1.],\n",
       "       [1., 0.],\n",
       "       [0., 1.],\n",
       "       [0., 1.],\n",
       "       [0., 1.],\n",
       "       [1., 0.],\n",
       "       [0., 1.],\n",
       "       [1., 0.],\n",
       "       [0., 1.],\n",
       "       [1., 0.],\n",
       "       [1., 0.],\n",
       "       [1., 0.],\n",
       "       [1., 0.]])"
      ]
     },
     "execution_count": 20,
     "metadata": {},
     "output_type": "execute_result"
    }
   ],
   "source": [
    "x_gender.toarray()"
   ]
  },
  {
   "cell_type": "code",
   "execution_count": 21,
   "id": "540c5204",
   "metadata": {},
   "outputs": [],
   "source": [
    "#two dummy variables, each for male and female"
   ]
  },
  {
   "cell_type": "code",
   "execution_count": 22,
   "id": "9d930cc9",
   "metadata": {},
   "outputs": [],
   "source": [
    "x_education=ohe.fit_transform(x[['Education']])"
   ]
  },
  {
   "cell_type": "code",
   "execution_count": 23,
   "id": "b6f26919",
   "metadata": {},
   "outputs": [
    {
     "data": {
      "text/plain": [
       "[array(['PG', 'School', 'UG'], dtype=object)]"
      ]
     },
     "execution_count": 23,
     "metadata": {},
     "output_type": "execute_result"
    }
   ],
   "source": [
    "ohe.categories_"
   ]
  },
  {
   "cell_type": "code",
   "execution_count": 24,
   "id": "db6dc9e8",
   "metadata": {},
   "outputs": [
    {
     "data": {
      "text/plain": [
       "(50, 3)"
      ]
     },
     "execution_count": 24,
     "metadata": {},
     "output_type": "execute_result"
    }
   ],
   "source": [
    "x_education.toarray().shape"
   ]
  },
  {
   "cell_type": "code",
   "execution_count": 26,
   "id": "f1f4cb82",
   "metadata": {},
   "outputs": [
    {
     "data": {
      "text/plain": [
       "array([[0., 1., 0.],\n",
       "       [0., 0., 1.],\n",
       "       [1., 0., 0.],\n",
       "       [1., 0., 0.],\n",
       "       [0., 0., 1.],\n",
       "       [0., 1., 0.],\n",
       "       [0., 1., 0.],\n",
       "       [0., 1., 0.],\n",
       "       [0., 0., 1.],\n",
       "       [0., 0., 1.],\n",
       "       [0., 0., 1.],\n",
       "       [0., 0., 1.],\n",
       "       [0., 1., 0.],\n",
       "       [0., 1., 0.],\n",
       "       [1., 0., 0.],\n",
       "       [0., 0., 1.],\n",
       "       [0., 0., 1.],\n",
       "       [0., 0., 1.],\n",
       "       [0., 1., 0.],\n",
       "       [1., 0., 0.],\n",
       "       [0., 1., 0.],\n",
       "       [1., 0., 0.],\n",
       "       [1., 0., 0.],\n",
       "       [0., 1., 0.],\n",
       "       [1., 0., 0.],\n",
       "       [0., 1., 0.],\n",
       "       [1., 0., 0.],\n",
       "       [1., 0., 0.],\n",
       "       [0., 1., 0.],\n",
       "       [0., 0., 1.],\n",
       "       [0., 0., 1.],\n",
       "       [0., 1., 0.],\n",
       "       [0., 0., 1.],\n",
       "       [1., 0., 0.],\n",
       "       [0., 1., 0.],\n",
       "       [0., 1., 0.],\n",
       "       [0., 0., 1.],\n",
       "       [1., 0., 0.],\n",
       "       [0., 1., 0.],\n",
       "       [1., 0., 0.],\n",
       "       [0., 1., 0.],\n",
       "       [1., 0., 0.],\n",
       "       [1., 0., 0.],\n",
       "       [1., 0., 0.],\n",
       "       [0., 0., 1.],\n",
       "       [1., 0., 0.],\n",
       "       [1., 0., 0.],\n",
       "       [1., 0., 0.],\n",
       "       [0., 0., 1.],\n",
       "       [0., 0., 1.]])"
      ]
     },
     "execution_count": 26,
     "metadata": {},
     "output_type": "execute_result"
    }
   ],
   "source": [
    "x_education.toarray()"
   ]
  },
  {
   "cell_type": "code",
   "execution_count": 27,
   "id": "9f0b1608",
   "metadata": {},
   "outputs": [],
   "source": [
    "#three dummy variables each for school,UG and PG"
   ]
  },
  {
   "cell_type": "code",
   "execution_count": 28,
   "id": "1a101691",
   "metadata": {},
   "outputs": [],
   "source": [
    "x_review=ohe.fit_transform(x[['Review']])"
   ]
  },
  {
   "cell_type": "code",
   "execution_count": 29,
   "id": "cd57218c",
   "metadata": {},
   "outputs": [
    {
     "data": {
      "text/plain": [
       "[array(['Average', 'Good', 'Poor'], dtype=object)]"
      ]
     },
     "execution_count": 29,
     "metadata": {},
     "output_type": "execute_result"
    }
   ],
   "source": [
    "ohe.categories_"
   ]
  },
  {
   "cell_type": "code",
   "execution_count": 30,
   "id": "515ad91f",
   "metadata": {},
   "outputs": [
    {
     "data": {
      "text/plain": [
       "(50, 3)"
      ]
     },
     "execution_count": 30,
     "metadata": {},
     "output_type": "execute_result"
    }
   ],
   "source": [
    "x_review.toarray().shape"
   ]
  },
  {
   "cell_type": "code",
   "execution_count": 31,
   "id": "d3e4cd30",
   "metadata": {},
   "outputs": [
    {
     "data": {
      "text/plain": [
       "array([[1., 0., 0.],\n",
       "       [0., 0., 1.],\n",
       "       [0., 1., 0.],\n",
       "       [0., 1., 0.],\n",
       "       [1., 0., 0.],\n",
       "       [1., 0., 0.],\n",
       "       [0., 1., 0.],\n",
       "       [0., 0., 1.],\n",
       "       [1., 0., 0.],\n",
       "       [0., 1., 0.],\n",
       "       [0., 1., 0.],\n",
       "       [0., 1., 0.],\n",
       "       [0., 0., 1.],\n",
       "       [1., 0., 0.],\n",
       "       [0., 0., 1.],\n",
       "       [0., 0., 1.],\n",
       "       [0., 0., 1.],\n",
       "       [0., 0., 1.],\n",
       "       [0., 1., 0.],\n",
       "       [0., 0., 1.],\n",
       "       [1., 0., 0.],\n",
       "       [1., 0., 0.],\n",
       "       [0., 0., 1.],\n",
       "       [0., 1., 0.],\n",
       "       [1., 0., 0.],\n",
       "       [0., 1., 0.],\n",
       "       [0., 0., 1.],\n",
       "       [0., 0., 1.],\n",
       "       [0., 0., 1.],\n",
       "       [1., 0., 0.],\n",
       "       [1., 0., 0.],\n",
       "       [0., 0., 1.],\n",
       "       [1., 0., 0.],\n",
       "       [0., 1., 0.],\n",
       "       [1., 0., 0.],\n",
       "       [0., 0., 1.],\n",
       "       [0., 1., 0.],\n",
       "       [1., 0., 0.],\n",
       "       [0., 1., 0.],\n",
       "       [0., 0., 1.],\n",
       "       [0., 1., 0.],\n",
       "       [0., 1., 0.],\n",
       "       [0., 1., 0.],\n",
       "       [0., 0., 1.],\n",
       "       [1., 0., 0.],\n",
       "       [0., 0., 1.],\n",
       "       [0., 0., 1.],\n",
       "       [0., 1., 0.],\n",
       "       [0., 1., 0.],\n",
       "       [0., 1., 0.]])"
      ]
     },
     "execution_count": 31,
     "metadata": {},
     "output_type": "execute_result"
    }
   ],
   "source": [
    "x_review.toarray()"
   ]
  },
  {
   "cell_type": "code",
   "execution_count": 32,
   "id": "835d65c0",
   "metadata": {},
   "outputs": [],
   "source": [
    "#three dummy variables each for poor,aveargae and good"
   ]
  },
  {
   "cell_type": "code",
   "execution_count": 33,
   "id": "26871636",
   "metadata": {},
   "outputs": [],
   "source": [
    "#create one hot encoder(dummy variable) for all features (x)"
   ]
  },
  {
   "cell_type": "code",
   "execution_count": 34,
   "id": "71aa811e",
   "metadata": {},
   "outputs": [],
   "source": [
    "x=df[['Gender','Education','Review']]"
   ]
  },
  {
   "cell_type": "code",
   "execution_count": 36,
   "id": "1324435a",
   "metadata": {},
   "outputs": [],
   "source": [
    "x=ohe.fit_transform(x)"
   ]
  },
  {
   "cell_type": "code",
   "execution_count": 37,
   "id": "e99191d3",
   "metadata": {},
   "outputs": [
    {
     "data": {
      "text/plain": [
       "(50, 8)"
      ]
     },
     "execution_count": 37,
     "metadata": {},
     "output_type": "execute_result"
    }
   ],
   "source": [
    "x.toarray().shape"
   ]
  },
  {
   "cell_type": "code",
   "execution_count": 38,
   "id": "05f4e8e4",
   "metadata": {},
   "outputs": [
    {
     "data": {
      "text/plain": [
       "array([[1., 0., 0., 1., 0., 1., 0., 0.],\n",
       "       [1., 0., 0., 0., 1., 0., 0., 1.],\n",
       "       [1., 0., 1., 0., 0., 0., 1., 0.],\n",
       "       [1., 0., 1., 0., 0., 0., 1., 0.],\n",
       "       [1., 0., 0., 0., 1., 1., 0., 0.],\n",
       "       [1., 0., 0., 1., 0., 1., 0., 0.],\n",
       "       [0., 1., 0., 1., 0., 0., 1., 0.],\n",
       "       [1., 0., 0., 1., 0., 0., 0., 1.],\n",
       "       [1., 0., 0., 0., 1., 1., 0., 0.],\n",
       "       [0., 1., 0., 0., 1., 0., 1., 0.],\n",
       "       [1., 0., 0., 0., 1., 0., 1., 0.],\n",
       "       [0., 1., 0., 0., 1., 0., 1., 0.],\n",
       "       [0., 1., 0., 1., 0., 0., 0., 1.],\n",
       "       [1., 0., 0., 1., 0., 1., 0., 0.],\n",
       "       [0., 1., 1., 0., 0., 0., 0., 1.],\n",
       "       [0., 1., 0., 0., 1., 0., 0., 1.],\n",
       "       [0., 1., 0., 0., 1., 0., 0., 1.],\n",
       "       [1., 0., 0., 0., 1., 0., 0., 1.],\n",
       "       [0., 1., 0., 1., 0., 0., 1., 0.],\n",
       "       [0., 1., 1., 0., 0., 0., 0., 1.],\n",
       "       [1., 0., 0., 1., 0., 1., 0., 0.],\n",
       "       [0., 1., 1., 0., 0., 1., 0., 0.],\n",
       "       [1., 0., 1., 0., 0., 0., 0., 1.],\n",
       "       [1., 0., 0., 1., 0., 0., 1., 0.],\n",
       "       [1., 0., 1., 0., 0., 1., 0., 0.],\n",
       "       [1., 0., 0., 1., 0., 0., 1., 0.],\n",
       "       [1., 0., 1., 0., 0., 0., 0., 1.],\n",
       "       [1., 0., 1., 0., 0., 0., 0., 1.],\n",
       "       [0., 1., 0., 1., 0., 0., 0., 1.],\n",
       "       [1., 0., 0., 0., 1., 1., 0., 0.],\n",
       "       [0., 1., 0., 0., 1., 1., 0., 0.],\n",
       "       [1., 0., 0., 1., 0., 0., 0., 1.],\n",
       "       [0., 1., 0., 0., 1., 1., 0., 0.],\n",
       "       [1., 0., 1., 0., 0., 0., 1., 0.],\n",
       "       [0., 1., 0., 1., 0., 1., 0., 0.],\n",
       "       [0., 1., 0., 1., 0., 0., 0., 1.],\n",
       "       [1., 0., 0., 0., 1., 0., 1., 0.],\n",
       "       [0., 1., 1., 0., 0., 1., 0., 0.],\n",
       "       [1., 0., 0., 1., 0., 0., 1., 0.],\n",
       "       [0., 1., 1., 0., 0., 0., 0., 1.],\n",
       "       [0., 1., 0., 1., 0., 0., 1., 0.],\n",
       "       [0., 1., 1., 0., 0., 0., 1., 0.],\n",
       "       [1., 0., 1., 0., 0., 0., 1., 0.],\n",
       "       [0., 1., 1., 0., 0., 0., 0., 1.],\n",
       "       [1., 0., 0., 0., 1., 1., 0., 0.],\n",
       "       [0., 1., 1., 0., 0., 0., 0., 1.],\n",
       "       [1., 0., 1., 0., 0., 0., 0., 1.],\n",
       "       [1., 0., 1., 0., 0., 0., 1., 0.],\n",
       "       [1., 0., 0., 0., 1., 0., 1., 0.],\n",
       "       [1., 0., 0., 0., 1., 0., 1., 0.]])"
      ]
     },
     "execution_count": 38,
     "metadata": {},
     "output_type": "execute_result"
    }
   ],
   "source": [
    "x.toarray()"
   ]
  },
  {
   "cell_type": "code",
   "execution_count": 39,
   "id": "f94739fb",
   "metadata": {},
   "outputs": [],
   "source": [
    "#create one hot encoder (dummy variable) for all features(x) as per choice"
   ]
  },
  {
   "cell_type": "code",
   "execution_count": 40,
   "id": "80640db7",
   "metadata": {},
   "outputs": [],
   "source": [
    "x=df[['Gender','Education','Review']]"
   ]
  },
  {
   "cell_type": "code",
   "execution_count": 41,
   "id": "4860898c",
   "metadata": {},
   "outputs": [],
   "source": [
    "ohe=OneHotEncoder(categories=[['Male','Female'],['School','UG','PG'],['Poor','Average','Good']])"
   ]
  },
  {
   "cell_type": "code",
   "execution_count": 42,
   "id": "ccd4b48a",
   "metadata": {},
   "outputs": [],
   "source": [
    "x=ohe.fit_transform(x)"
   ]
  },
  {
   "cell_type": "code",
   "execution_count": 43,
   "id": "68374d8e",
   "metadata": {},
   "outputs": [
    {
     "data": {
      "text/plain": [
       "[array(['Male', 'Female'], dtype=object),\n",
       " array(['School', 'UG', 'PG'], dtype=object),\n",
       " array(['Poor', 'Average', 'Good'], dtype=object)]"
      ]
     },
     "execution_count": 43,
     "metadata": {},
     "output_type": "execute_result"
    }
   ],
   "source": [
    "ohe.categories_"
   ]
  },
  {
   "cell_type": "code",
   "execution_count": 44,
   "id": "56471de5",
   "metadata": {},
   "outputs": [
    {
     "data": {
      "text/plain": [
       "(50, 8)"
      ]
     },
     "execution_count": 44,
     "metadata": {},
     "output_type": "execute_result"
    }
   ],
   "source": [
    "x.toarray().shape"
   ]
  },
  {
   "cell_type": "code",
   "execution_count": 45,
   "id": "a93f528d",
   "metadata": {},
   "outputs": [
    {
     "data": {
      "text/plain": [
       "array([[0., 1., 1., 0., 0., 0., 1., 0.],\n",
       "       [0., 1., 0., 1., 0., 1., 0., 0.],\n",
       "       [0., 1., 0., 0., 1., 0., 0., 1.],\n",
       "       [0., 1., 0., 0., 1., 0., 0., 1.],\n",
       "       [0., 1., 0., 1., 0., 0., 1., 0.],\n",
       "       [0., 1., 1., 0., 0., 0., 1., 0.],\n",
       "       [1., 0., 1., 0., 0., 0., 0., 1.],\n",
       "       [0., 1., 1., 0., 0., 1., 0., 0.],\n",
       "       [0., 1., 0., 1., 0., 0., 1., 0.],\n",
       "       [1., 0., 0., 1., 0., 0., 0., 1.],\n",
       "       [0., 1., 0., 1., 0., 0., 0., 1.],\n",
       "       [1., 0., 0., 1., 0., 0., 0., 1.],\n",
       "       [1., 0., 1., 0., 0., 1., 0., 0.],\n",
       "       [0., 1., 1., 0., 0., 0., 1., 0.],\n",
       "       [1., 0., 0., 0., 1., 1., 0., 0.],\n",
       "       [1., 0., 0., 1., 0., 1., 0., 0.],\n",
       "       [1., 0., 0., 1., 0., 1., 0., 0.],\n",
       "       [0., 1., 0., 1., 0., 1., 0., 0.],\n",
       "       [1., 0., 1., 0., 0., 0., 0., 1.],\n",
       "       [1., 0., 0., 0., 1., 1., 0., 0.],\n",
       "       [0., 1., 1., 0., 0., 0., 1., 0.],\n",
       "       [1., 0., 0., 0., 1., 0., 1., 0.],\n",
       "       [0., 1., 0., 0., 1., 1., 0., 0.],\n",
       "       [0., 1., 1., 0., 0., 0., 0., 1.],\n",
       "       [0., 1., 0., 0., 1., 0., 1., 0.],\n",
       "       [0., 1., 1., 0., 0., 0., 0., 1.],\n",
       "       [0., 1., 0., 0., 1., 1., 0., 0.],\n",
       "       [0., 1., 0., 0., 1., 1., 0., 0.],\n",
       "       [1., 0., 1., 0., 0., 1., 0., 0.],\n",
       "       [0., 1., 0., 1., 0., 0., 1., 0.],\n",
       "       [1., 0., 0., 1., 0., 0., 1., 0.],\n",
       "       [0., 1., 1., 0., 0., 1., 0., 0.],\n",
       "       [1., 0., 0., 1., 0., 0., 1., 0.],\n",
       "       [0., 1., 0., 0., 1., 0., 0., 1.],\n",
       "       [1., 0., 1., 0., 0., 0., 1., 0.],\n",
       "       [1., 0., 1., 0., 0., 1., 0., 0.],\n",
       "       [0., 1., 0., 1., 0., 0., 0., 1.],\n",
       "       [1., 0., 0., 0., 1., 0., 1., 0.],\n",
       "       [0., 1., 1., 0., 0., 0., 0., 1.],\n",
       "       [1., 0., 0., 0., 1., 1., 0., 0.],\n",
       "       [1., 0., 1., 0., 0., 0., 0., 1.],\n",
       "       [1., 0., 0., 0., 1., 0., 0., 1.],\n",
       "       [0., 1., 0., 0., 1., 0., 0., 1.],\n",
       "       [1., 0., 0., 0., 1., 1., 0., 0.],\n",
       "       [0., 1., 0., 1., 0., 0., 1., 0.],\n",
       "       [1., 0., 0., 0., 1., 1., 0., 0.],\n",
       "       [0., 1., 0., 0., 1., 1., 0., 0.],\n",
       "       [0., 1., 0., 0., 1., 0., 0., 1.],\n",
       "       [0., 1., 0., 1., 0., 0., 0., 1.],\n",
       "       [0., 1., 0., 1., 0., 0., 0., 1.]])"
      ]
     },
     "execution_count": 45,
     "metadata": {},
     "output_type": "execute_result"
    }
   ],
   "source": [
    "x.toarray()"
   ]
  },
  {
   "cell_type": "code",
   "execution_count": 47,
   "id": "f82bae37",
   "metadata": {},
   "outputs": [
    {
     "data": {
      "text/plain": [
       "array([['Female', 'School', 'Average']], dtype=object)"
      ]
     },
     "execution_count": 47,
     "metadata": {},
     "output_type": "execute_result"
    }
   ],
   "source": [
    "ohe.inverse_transform([[0.,1.,1.,0.,0.,0.,1.,0.]])"
   ]
  },
  {
   "cell_type": "code",
   "execution_count": 48,
   "id": "050d2955",
   "metadata": {},
   "outputs": [],
   "source": [
    "#drop first dummy variable from each categorical feature(x) to avoid multicolinearity"
   ]
  },
  {
   "cell_type": "code",
   "execution_count": 49,
   "id": "6455cbbe",
   "metadata": {},
   "outputs": [],
   "source": [
    "x=df[['Gender','Education','Review']]"
   ]
  },
  {
   "cell_type": "code",
   "execution_count": 58,
   "id": "c11e96ed",
   "metadata": {},
   "outputs": [],
   "source": [
    "ohe=OneHotEncoder()"
   ]
  },
  {
   "cell_type": "code",
   "execution_count": 59,
   "id": "1cd4a389",
   "metadata": {},
   "outputs": [],
   "source": [
    "ohe=OneHotEncoder(drop='first')"
   ]
  },
  {
   "cell_type": "code",
   "execution_count": 60,
   "id": "d27df58c",
   "metadata": {},
   "outputs": [
    {
     "name": "stdout",
     "output_type": "stream",
     "text": [
      "bjkb\n"
     ]
    }
   ],
   "source": [
    "print(\"bjkb\")"
   ]
  },
  {
   "cell_type": "code",
   "execution_count": 64,
   "id": "3bec9214",
   "metadata": {},
   "outputs": [],
   "source": [
    "#x=ohe.fit_transform(x)"
   ]
  },
  {
   "cell_type": "code",
   "execution_count": 67,
   "id": "14e192f4",
   "metadata": {},
   "outputs": [],
   "source": [
    "#ohe.categories_"
   ]
  },
  {
   "cell_type": "code",
   "execution_count": 66,
   "id": "8f00ff82",
   "metadata": {},
   "outputs": [
    {
     "data": {
      "text/plain": [
       "(50, 5)"
      ]
     },
     "execution_count": 66,
     "metadata": {},
     "output_type": "execute_result"
    }
   ],
   "source": [
    "x.toarray().shape"
   ]
  },
  {
   "cell_type": "code",
   "execution_count": 63,
   "id": "51a4a89a",
   "metadata": {},
   "outputs": [
    {
     "data": {
      "text/plain": [
       "array([[0., 1., 0., 0., 0.],\n",
       "       [0., 0., 1., 0., 1.],\n",
       "       [0., 0., 0., 1., 0.],\n",
       "       [0., 0., 0., 1., 0.],\n",
       "       [0., 0., 1., 0., 0.],\n",
       "       [0., 1., 0., 0., 0.],\n",
       "       [1., 1., 0., 1., 0.],\n",
       "       [0., 1., 0., 0., 1.],\n",
       "       [0., 0., 1., 0., 0.],\n",
       "       [1., 0., 1., 1., 0.],\n",
       "       [0., 0., 1., 1., 0.],\n",
       "       [1., 0., 1., 1., 0.],\n",
       "       [1., 1., 0., 0., 1.],\n",
       "       [0., 1., 0., 0., 0.],\n",
       "       [1., 0., 0., 0., 1.],\n",
       "       [1., 0., 1., 0., 1.],\n",
       "       [1., 0., 1., 0., 1.],\n",
       "       [0., 0., 1., 0., 1.],\n",
       "       [1., 1., 0., 1., 0.],\n",
       "       [1., 0., 0., 0., 1.],\n",
       "       [0., 1., 0., 0., 0.],\n",
       "       [1., 0., 0., 0., 0.],\n",
       "       [0., 0., 0., 0., 1.],\n",
       "       [0., 1., 0., 1., 0.],\n",
       "       [0., 0., 0., 0., 0.],\n",
       "       [0., 1., 0., 1., 0.],\n",
       "       [0., 0., 0., 0., 1.],\n",
       "       [0., 0., 0., 0., 1.],\n",
       "       [1., 1., 0., 0., 1.],\n",
       "       [0., 0., 1., 0., 0.],\n",
       "       [1., 0., 1., 0., 0.],\n",
       "       [0., 1., 0., 0., 1.],\n",
       "       [1., 0., 1., 0., 0.],\n",
       "       [0., 0., 0., 1., 0.],\n",
       "       [1., 1., 0., 0., 0.],\n",
       "       [1., 1., 0., 0., 1.],\n",
       "       [0., 0., 1., 1., 0.],\n",
       "       [1., 0., 0., 0., 0.],\n",
       "       [0., 1., 0., 1., 0.],\n",
       "       [1., 0., 0., 0., 1.],\n",
       "       [1., 1., 0., 1., 0.],\n",
       "       [1., 0., 0., 1., 0.],\n",
       "       [0., 0., 0., 1., 0.],\n",
       "       [1., 0., 0., 0., 1.],\n",
       "       [0., 0., 1., 0., 0.],\n",
       "       [1., 0., 0., 0., 1.],\n",
       "       [0., 0., 0., 0., 1.],\n",
       "       [0., 0., 0., 1., 0.],\n",
       "       [0., 0., 1., 1., 0.],\n",
       "       [0., 0., 1., 1., 0.]])"
      ]
     },
     "execution_count": 63,
     "metadata": {},
     "output_type": "execute_result"
    }
   ],
   "source": [
    "x.toarray()"
   ]
  },
  {
   "cell_type": "code",
   "execution_count": null,
   "id": "7ed3b173",
   "metadata": {},
   "outputs": [],
   "source": []
  }
 ],
 "metadata": {
  "kernelspec": {
   "display_name": "Python 3 (ipykernel)",
   "language": "python",
   "name": "python3"
  },
  "language_info": {
   "codemirror_mode": {
    "name": "ipython",
    "version": 3
   },
   "file_extension": ".py",
   "mimetype": "text/x-python",
   "name": "python",
   "nbconvert_exporter": "python",
   "pygments_lexer": "ipython3",
   "version": "3.10.2"
  }
 },
 "nbformat": 4,
 "nbformat_minor": 5
}
